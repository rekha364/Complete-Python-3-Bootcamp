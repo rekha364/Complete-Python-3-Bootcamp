{
  "nbformat": 4,
  "nbformat_minor": 0,
  "metadata": {
    "colab": {
      "name": "Untitled1.ipynb",
      "provenance": [],
      "collapsed_sections": [],
      "authorship_tag": "ABX9TyOV8tfU4unDJthMxMkSRoLD",
      "include_colab_link": true
    },
    "kernelspec": {
      "name": "python3",
      "display_name": "Python 3"
    }
  },
  "cells": [
    {
      "cell_type": "markdown",
      "metadata": {
        "id": "view-in-github",
        "colab_type": "text"
      },
      "source": [
        "<a href=\"https://colab.research.google.com/github/rekha364/Complete-Python-3-Bootcamp/blob/master/Untitled1.ipynb\" target=\"_parent\"><img src=\"https://colab.research.google.com/assets/colab-badge.svg\" alt=\"Open In Colab\"/></a>"
      ]
    },
    {
      "cell_type": "code",
      "metadata": {
        "id": "IVDmY_Pup6MB",
        "colab_type": "code",
        "colab": {}
      },
      "source": [
        "class parent:\n",
        "  def show(self, greeting):\n",
        "    print(greeting +' I am parent')\n",
        "\n",
        "  def show_details(self, greet, intro):\n",
        "    print(greet + intro + ' I am child with paramter')  "
      ],
      "execution_count": 97,
      "outputs": []
    },
    {
      "cell_type": "code",
      "metadata": {
        "id": "wYN1ysUpqMr6",
        "colab_type": "code",
        "colab": {}
      },
      "source": [
        "class child(parent):\n",
        "  def show_details(self):\n",
        "    print('I am child without paramter')\n",
        "#Method overloading\n",
        "  def show_details(self, greet):\n",
        "    #Overriding\n",
        "    super().show_details(greet, ' My name is Rekha')\n",
        "    print(greet + ' I am child with paramter')"
      ],
      "execution_count": 98,
      "outputs": []
    },
    {
      "cell_type": "code",
      "metadata": {
        "id": "vozzhhf2rYz6",
        "colab_type": "code",
        "colab": {}
      },
      "source": [
        "myobj = child()"
      ],
      "execution_count": 99,
      "outputs": []
    },
    {
      "cell_type": "code",
      "metadata": {
        "id": "pS7oScMmrfNp",
        "colab_type": "code",
        "colab": {
          "base_uri": "https://localhost:8080/",
          "height": 52
        },
        "outputId": "09ebb6d5-6c8b-4dcc-c5df-6ad9f86820a7"
      },
      "source": [
        "myobj.show_details('Hi')"
      ],
      "execution_count": 101,
      "outputs": [
        {
          "output_type": "stream",
          "text": [
            "Hi My name is Rekha I am child with paramter\n",
            "Hi I am child with paramter\n"
          ],
          "name": "stdout"
        }
      ]
    },
    {
      "cell_type": "code",
      "metadata": {
        "id": "5DZfwz9uwlwa",
        "colab_type": "code",
        "colab": {}
      },
      "source": [
        ""
      ],
      "execution_count": 100,
      "outputs": []
    }
  ]
}